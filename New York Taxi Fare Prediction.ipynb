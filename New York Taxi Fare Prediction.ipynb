{
 "cells": [
  {
   "cell_type": "code",
   "execution_count": 106,
   "metadata": {
    "collapsed": true
   },
   "outputs": [],
   "source": [
    "import pandas as pd\n",
    "import numpy as np\n",
    "import matplotlib.pyplot as plt\n",
    "import seaborn as sns\n",
    "\n",
    "import xgboost as xgb"
   ]
  },
  {
   "cell_type": "code",
   "execution_count": 107,
   "metadata": {
    "collapsed": true
   },
   "outputs": [],
   "source": [
    "train = pd.read_csv('taxitrain1.csv',nrows=100000,parse_dates = ['pickup_datetime'])"
   ]
  },
  {
   "cell_type": "raw",
   "metadata": {},
   "source": [
    "train.head()"
   ]
  },
  {
   "cell_type": "code",
   "execution_count": 109,
   "metadata": {},
   "outputs": [
    {
     "name": "stdout",
     "output_type": "stream",
     "text": [
      "<class 'pandas.core.frame.DataFrame'>\n",
      "RangeIndex: 100000 entries, 0 to 99999\n",
      "Data columns (total 8 columns):\n",
      "key                  100000 non-null object\n",
      "fare_amount          100000 non-null float64\n",
      "pickup_datetime      100000 non-null datetime64[ns]\n",
      "pickup_longitude     100000 non-null float64\n",
      "pickup_latitude      100000 non-null float64\n",
      "dropoff_longitude    100000 non-null float64\n",
      "dropoff_latitude     100000 non-null float64\n",
      "passenger_count      100000 non-null int64\n",
      "dtypes: datetime64[ns](1), float64(5), int64(1), object(1)\n",
      "memory usage: 6.1+ MB\n"
     ]
    }
   ],
   "source": [
    "train.info()\n",
    "#contains no missing values"
   ]
  },
  {
   "cell_type": "code",
   "execution_count": 110,
   "metadata": {},
   "outputs": [
    {
     "data": {
      "text/html": [
       "<div>\n",
       "<style>\n",
       "    .dataframe thead tr:only-child th {\n",
       "        text-align: right;\n",
       "    }\n",
       "\n",
       "    .dataframe thead th {\n",
       "        text-align: left;\n",
       "    }\n",
       "\n",
       "    .dataframe tbody tr th {\n",
       "        vertical-align: top;\n",
       "    }\n",
       "</style>\n",
       "<table border=\"1\" class=\"dataframe\">\n",
       "  <thead>\n",
       "    <tr style=\"text-align: right;\">\n",
       "      <th></th>\n",
       "      <th>fare_amount</th>\n",
       "      <th>pickup_longitude</th>\n",
       "      <th>pickup_latitude</th>\n",
       "      <th>dropoff_longitude</th>\n",
       "      <th>dropoff_latitude</th>\n",
       "      <th>passenger_count</th>\n",
       "    </tr>\n",
       "  </thead>\n",
       "  <tbody>\n",
       "    <tr>\n",
       "      <th>count</th>\n",
       "      <td>100000.000000</td>\n",
       "      <td>100000.000000</td>\n",
       "      <td>100000.000000</td>\n",
       "      <td>100000.000000</td>\n",
       "      <td>100000.000000</td>\n",
       "      <td>100000.000000</td>\n",
       "    </tr>\n",
       "    <tr>\n",
       "      <th>mean</th>\n",
       "      <td>11.354652</td>\n",
       "      <td>-72.494682</td>\n",
       "      <td>39.914481</td>\n",
       "      <td>-72.490967</td>\n",
       "      <td>39.919053</td>\n",
       "      <td>1.673820</td>\n",
       "    </tr>\n",
       "    <tr>\n",
       "      <th>std</th>\n",
       "      <td>9.716777</td>\n",
       "      <td>10.693934</td>\n",
       "      <td>6.225686</td>\n",
       "      <td>10.471386</td>\n",
       "      <td>6.213427</td>\n",
       "      <td>1.300171</td>\n",
       "    </tr>\n",
       "    <tr>\n",
       "      <th>min</th>\n",
       "      <td>-44.900000</td>\n",
       "      <td>-736.550000</td>\n",
       "      <td>-74.007670</td>\n",
       "      <td>-84.654241</td>\n",
       "      <td>-74.006377</td>\n",
       "      <td>0.000000</td>\n",
       "    </tr>\n",
       "    <tr>\n",
       "      <th>25%</th>\n",
       "      <td>6.000000</td>\n",
       "      <td>-73.992041</td>\n",
       "      <td>40.734996</td>\n",
       "      <td>-73.991215</td>\n",
       "      <td>40.734182</td>\n",
       "      <td>1.000000</td>\n",
       "    </tr>\n",
       "    <tr>\n",
       "      <th>50%</th>\n",
       "      <td>8.500000</td>\n",
       "      <td>-73.981789</td>\n",
       "      <td>40.752765</td>\n",
       "      <td>-73.980000</td>\n",
       "      <td>40.753243</td>\n",
       "      <td>1.000000</td>\n",
       "    </tr>\n",
       "    <tr>\n",
       "      <th>75%</th>\n",
       "      <td>12.500000</td>\n",
       "      <td>-73.966982</td>\n",
       "      <td>40.767258</td>\n",
       "      <td>-73.963433</td>\n",
       "      <td>40.768166</td>\n",
       "      <td>2.000000</td>\n",
       "    </tr>\n",
       "    <tr>\n",
       "      <th>max</th>\n",
       "      <td>200.000000</td>\n",
       "      <td>40.787575</td>\n",
       "      <td>401.083332</td>\n",
       "      <td>40.851027</td>\n",
       "      <td>404.616667</td>\n",
       "      <td>6.000000</td>\n",
       "    </tr>\n",
       "  </tbody>\n",
       "</table>\n",
       "</div>"
      ],
      "text/plain": [
       "         fare_amount  pickup_longitude  pickup_latitude  dropoff_longitude  \\\n",
       "count  100000.000000     100000.000000    100000.000000      100000.000000   \n",
       "mean       11.354652        -72.494682        39.914481         -72.490967   \n",
       "std         9.716777         10.693934         6.225686          10.471386   \n",
       "min       -44.900000       -736.550000       -74.007670         -84.654241   \n",
       "25%         6.000000        -73.992041        40.734996         -73.991215   \n",
       "50%         8.500000        -73.981789        40.752765         -73.980000   \n",
       "75%        12.500000        -73.966982        40.767258         -73.963433   \n",
       "max       200.000000         40.787575       401.083332          40.851027   \n",
       "\n",
       "       dropoff_latitude  passenger_count  \n",
       "count     100000.000000    100000.000000  \n",
       "mean          39.919053         1.673820  \n",
       "std            6.213427         1.300171  \n",
       "min          -74.006377         0.000000  \n",
       "25%           40.734182         1.000000  \n",
       "50%           40.753243         1.000000  \n",
       "75%           40.768166         2.000000  \n",
       "max          404.616667         6.000000  "
      ]
     },
     "execution_count": 110,
     "metadata": {},
     "output_type": "execute_result"
    }
   ],
   "source": [
    "train.describe()"
   ]
  },
  {
   "cell_type": "code",
   "execution_count": 111,
   "metadata": {
    "collapsed": true
   },
   "outputs": [],
   "source": [
    "#New york lies in latitude 40.7 and the lontitude is -74. Some records have latitude in range of 401/404 which is not possible\n",
    "# We shall remove those records (outliers)"
   ]
  },
  {
   "cell_type": "code",
   "execution_count": 112,
   "metadata": {
    "collapsed": true
   },
   "outputs": [],
   "source": [
    "train = train.drop(train[(train['pickup_latitude'] < 37) | (train['pickup_latitude'] > 42)].index)"
   ]
  },
  {
   "cell_type": "code",
   "execution_count": 113,
   "metadata": {
    "collapsed": true
   },
   "outputs": [],
   "source": [
    "train = train.drop(train[(train['dropoff_latitude'] < 37) | (train['dropoff_latitude'] > 42)].index)"
   ]
  },
  {
   "cell_type": "code",
   "execution_count": 114,
   "metadata": {
    "collapsed": true
   },
   "outputs": [],
   "source": [
    "train = train.drop(train[(train['dropoff_longitude'] > -70) | (train['dropoff_longitude'] < -75)].index)\n",
    "train = train.drop(train[(train['pickup_longitude'] > -70) | (train['pickup_longitude'] < -75)].index)"
   ]
  },
  {
   "cell_type": "code",
   "execution_count": 115,
   "metadata": {
    "scrolled": true
   },
   "outputs": [
    {
     "data": {
      "text/html": [
       "<div>\n",
       "<style>\n",
       "    .dataframe thead tr:only-child th {\n",
       "        text-align: right;\n",
       "    }\n",
       "\n",
       "    .dataframe thead th {\n",
       "        text-align: left;\n",
       "    }\n",
       "\n",
       "    .dataframe tbody tr th {\n",
       "        vertical-align: top;\n",
       "    }\n",
       "</style>\n",
       "<table border=\"1\" class=\"dataframe\">\n",
       "  <thead>\n",
       "    <tr style=\"text-align: right;\">\n",
       "      <th></th>\n",
       "      <th>fare_amount</th>\n",
       "      <th>pickup_longitude</th>\n",
       "      <th>pickup_latitude</th>\n",
       "      <th>dropoff_longitude</th>\n",
       "      <th>dropoff_latitude</th>\n",
       "      <th>passenger_count</th>\n",
       "    </tr>\n",
       "  </thead>\n",
       "  <tbody>\n",
       "    <tr>\n",
       "      <th>count</th>\n",
       "      <td>97910.000000</td>\n",
       "      <td>97910.000000</td>\n",
       "      <td>97910.000000</td>\n",
       "      <td>97910.000000</td>\n",
       "      <td>97910.000000</td>\n",
       "      <td>97910.000000</td>\n",
       "    </tr>\n",
       "    <tr>\n",
       "      <th>mean</th>\n",
       "      <td>11.342825</td>\n",
       "      <td>-73.975056</td>\n",
       "      <td>40.750974</td>\n",
       "      <td>-73.974000</td>\n",
       "      <td>40.751436</td>\n",
       "      <td>1.674252</td>\n",
       "    </tr>\n",
       "    <tr>\n",
       "      <th>std</th>\n",
       "      <td>9.688837</td>\n",
       "      <td>0.041904</td>\n",
       "      <td>0.034203</td>\n",
       "      <td>0.039204</td>\n",
       "      <td>0.035692</td>\n",
       "      <td>1.300166</td>\n",
       "    </tr>\n",
       "    <tr>\n",
       "      <th>min</th>\n",
       "      <td>-44.900000</td>\n",
       "      <td>-74.945938</td>\n",
       "      <td>38.754215</td>\n",
       "      <td>-74.945938</td>\n",
       "      <td>39.296307</td>\n",
       "      <td>0.000000</td>\n",
       "    </tr>\n",
       "    <tr>\n",
       "      <th>25%</th>\n",
       "      <td>6.000000</td>\n",
       "      <td>-73.992265</td>\n",
       "      <td>40.736638</td>\n",
       "      <td>-73.991399</td>\n",
       "      <td>40.735751</td>\n",
       "      <td>1.000000</td>\n",
       "    </tr>\n",
       "    <tr>\n",
       "      <th>50%</th>\n",
       "      <td>8.500000</td>\n",
       "      <td>-73.982076</td>\n",
       "      <td>40.753533</td>\n",
       "      <td>-73.980437</td>\n",
       "      <td>40.753961</td>\n",
       "      <td>1.000000</td>\n",
       "    </tr>\n",
       "    <tr>\n",
       "      <th>75%</th>\n",
       "      <td>12.500000</td>\n",
       "      <td>-73.968288</td>\n",
       "      <td>40.767677</td>\n",
       "      <td>-73.965117</td>\n",
       "      <td>40.768485</td>\n",
       "      <td>2.000000</td>\n",
       "    </tr>\n",
       "    <tr>\n",
       "      <th>max</th>\n",
       "      <td>200.000000</td>\n",
       "      <td>-70.140793</td>\n",
       "      <td>41.692428</td>\n",
       "      <td>-72.854940</td>\n",
       "      <td>41.714633</td>\n",
       "      <td>6.000000</td>\n",
       "    </tr>\n",
       "  </tbody>\n",
       "</table>\n",
       "</div>"
      ],
      "text/plain": [
       "        fare_amount  pickup_longitude  pickup_latitude  dropoff_longitude  \\\n",
       "count  97910.000000      97910.000000     97910.000000       97910.000000   \n",
       "mean      11.342825        -73.975056        40.750974         -73.974000   \n",
       "std        9.688837          0.041904         0.034203           0.039204   \n",
       "min      -44.900000        -74.945938        38.754215         -74.945938   \n",
       "25%        6.000000        -73.992265        40.736638         -73.991399   \n",
       "50%        8.500000        -73.982076        40.753533         -73.980437   \n",
       "75%       12.500000        -73.968288        40.767677         -73.965117   \n",
       "max      200.000000        -70.140793        41.692428         -72.854940   \n",
       "\n",
       "       dropoff_latitude  passenger_count  \n",
       "count      97910.000000     97910.000000  \n",
       "mean          40.751436         1.674252  \n",
       "std            0.035692         1.300166  \n",
       "min           39.296307         0.000000  \n",
       "25%           40.735751         1.000000  \n",
       "50%           40.753961         1.000000  \n",
       "75%           40.768485         2.000000  \n",
       "max           41.714633         6.000000  "
      ]
     },
     "execution_count": 115,
     "metadata": {},
     "output_type": "execute_result"
    }
   ],
   "source": [
    "train.describe()"
   ]
  },
  {
   "cell_type": "code",
   "execution_count": 116,
   "metadata": {},
   "outputs": [
    {
     "name": "stdout",
     "output_type": "stream",
     "text": [
      "<class 'pandas.core.frame.DataFrame'>\n",
      "Int64Index: 97910 entries, 0 to 99999\n",
      "Data columns (total 8 columns):\n",
      "key                  97910 non-null object\n",
      "fare_amount          97910 non-null float64\n",
      "pickup_datetime      97910 non-null datetime64[ns]\n",
      "pickup_longitude     97910 non-null float64\n",
      "pickup_latitude      97910 non-null float64\n",
      "dropoff_longitude    97910 non-null float64\n",
      "dropoff_latitude     97910 non-null float64\n",
      "passenger_count      97910 non-null int64\n",
      "dtypes: datetime64[ns](1), float64(5), int64(1), object(1)\n",
      "memory usage: 6.7+ MB\n"
     ]
    }
   ],
   "source": [
    "train.info()"
   ]
  },
  {
   "cell_type": "code",
   "execution_count": 117,
   "metadata": {
    "collapsed": true
   },
   "outputs": [],
   "source": [
    "#drop rows with passenger count = 0\n",
    "train = train.drop(train[train['passenger_count'] == 0].index)"
   ]
  },
  {
   "cell_type": "code",
   "execution_count": 118,
   "metadata": {},
   "outputs": [
    {
     "name": "stdout",
     "output_type": "stream",
     "text": [
      "<class 'pandas.core.frame.DataFrame'>\n",
      "Int64Index: 97552 entries, 0 to 99999\n",
      "Data columns (total 8 columns):\n",
      "key                  97552 non-null object\n",
      "fare_amount          97552 non-null float64\n",
      "pickup_datetime      97552 non-null datetime64[ns]\n",
      "pickup_longitude     97552 non-null float64\n",
      "pickup_latitude      97552 non-null float64\n",
      "dropoff_longitude    97552 non-null float64\n",
      "dropoff_latitude     97552 non-null float64\n",
      "passenger_count      97552 non-null int64\n",
      "dtypes: datetime64[ns](1), float64(5), int64(1), object(1)\n",
      "memory usage: 6.7+ MB\n"
     ]
    }
   ],
   "source": [
    "train.info()"
   ]
  },
  {
   "cell_type": "code",
   "execution_count": 119,
   "metadata": {
    "collapsed": true
   },
   "outputs": [],
   "source": [
    "#drop rows with negative or 0 fare amount"
   ]
  },
  {
   "cell_type": "code",
   "execution_count": 120,
   "metadata": {
    "collapsed": true
   },
   "outputs": [],
   "source": [
    "#Minimum fare is $2.5. Assuming there was not waiting and then cancellation\n",
    "train = train.drop(train[train['fare_amount'] < 2.5].index)"
   ]
  },
  {
   "cell_type": "code",
   "execution_count": 121,
   "metadata": {},
   "outputs": [
    {
     "name": "stdout",
     "output_type": "stream",
     "text": [
      "<class 'pandas.core.frame.DataFrame'>\n",
      "Int64Index: 97539 entries, 0 to 99999\n",
      "Data columns (total 8 columns):\n",
      "key                  97539 non-null object\n",
      "fare_amount          97539 non-null float64\n",
      "pickup_datetime      97539 non-null datetime64[ns]\n",
      "pickup_longitude     97539 non-null float64\n",
      "pickup_latitude      97539 non-null float64\n",
      "dropoff_longitude    97539 non-null float64\n",
      "dropoff_latitude     97539 non-null float64\n",
      "passenger_count      97539 non-null int64\n",
      "dtypes: datetime64[ns](1), float64(5), int64(1), object(1)\n",
      "memory usage: 6.7+ MB\n"
     ]
    }
   ],
   "source": [
    "train.info()"
   ]
  },
  {
   "cell_type": "code",
   "execution_count": 122,
   "metadata": {},
   "outputs": [
    {
     "name": "stdout",
     "output_type": "stream",
     "text": [
      "                                 key  fare_amount     pickup_datetime  \\\n",
      "1335     2013-01-16 20:19:58.0000001       180.00 2013-01-16 20:19:58   \n",
      "1483     2009-08-07 21:49:13.0000003       165.00 2009-08-07 21:49:13   \n",
      "28373  2012-02-26 03:24:00.000000155       200.00 2012-02-26 03:24:00   \n",
      "43956    2014-11-01 03:35:37.0000002       165.00 2014-11-01 03:35:37   \n",
      "46198  2013-05-13 11:18:00.000000139       160.00 2013-05-13 11:18:00   \n",
      "61163    2015-03-03 16:34:57.0000001       160.77 2015-03-03 16:34:57   \n",
      "62648    2013-04-12 03:16:58.0000001       160.00 2013-04-12 03:16:58   \n",
      "\n",
      "       pickup_longitude  pickup_latitude  dropoff_longitude  dropoff_latitude  \\\n",
      "1335         -74.429332        40.500046         -74.429332         40.500046   \n",
      "1483         -73.633363        41.032490         -73.633671         41.032598   \n",
      "28373        -73.954922        41.391042         -73.954918         41.391042   \n",
      "43956        -73.931776        40.754153         -73.919801         40.797735   \n",
      "46198        -73.644528        41.009100         -73.641208         41.021182   \n",
      "61163        -73.866600        40.771149         -73.816216         41.092316   \n",
      "62648        -73.963953        40.706716         -73.964433         40.707917   \n",
      "\n",
      "       passenger_count  \n",
      "1335                 1  \n",
      "1483                 1  \n",
      "28373                1  \n",
      "43956                1  \n",
      "46198                1  \n",
      "61163                1  \n",
      "62648                1  \n"
     ]
    }
   ],
   "source": [
    "print(train[train['fare_amount'] > 150])"
   ]
  },
  {
   "cell_type": "code",
   "execution_count": 123,
   "metadata": {
    "collapsed": true
   },
   "outputs": [],
   "source": [
    "#Calculate distance between pickup and drop based on latitude and longitude\n",
    "#Haversine formula\n",
    "#taken from stackoverflow.com\n",
    "#import math\n",
    "def haversine(lon1, lat1, lon2, lat2):\n",
    "    lon1, lat1, lon2, lat2 = map(np.radians, [lon1, lat1, lon2, lat2])\n",
    "    dlon = lon2 - lon1 \n",
    "    dlat = lat2 - lat1 \n",
    "    a = np.sin(dlat/2)**2 + np.cos(lat1) * np.cos(lat2) * np.sin(dlon/2)**2\n",
    "    c = 2 * np.arcsin(np.sqrt(a)) \n",
    "    km = 6367 * c\n",
    "    return km\n",
    "\n",
    "train['distance'] = haversine(train['pickup_longitude'],train['pickup_latitude'],train['dropoff_longitude'],train['dropoff_latitude'])\n"
   ]
  },
  {
   "cell_type": "code",
   "execution_count": null,
   "metadata": {
    "collapsed": true
   },
   "outputs": [],
   "source": []
  },
  {
   "cell_type": "code",
   "execution_count": 124,
   "metadata": {},
   "outputs": [
    {
     "name": "stdout",
     "output_type": "stream",
     "text": [
      "                                 key  fare_amount     pickup_datetime  \\\n",
      "1335     2013-01-16 20:19:58.0000001       180.00 2013-01-16 20:19:58   \n",
      "1483     2009-08-07 21:49:13.0000003       165.00 2009-08-07 21:49:13   \n",
      "28373  2012-02-26 03:24:00.000000155       200.00 2012-02-26 03:24:00   \n",
      "43956    2014-11-01 03:35:37.0000002       165.00 2014-11-01 03:35:37   \n",
      "46198  2013-05-13 11:18:00.000000139       160.00 2013-05-13 11:18:00   \n",
      "61163    2015-03-03 16:34:57.0000001       160.77 2015-03-03 16:34:57   \n",
      "62648    2013-04-12 03:16:58.0000001       160.00 2013-04-12 03:16:58   \n",
      "\n",
      "       pickup_longitude  pickup_latitude  dropoff_longitude  dropoff_latitude  \\\n",
      "1335         -74.429332        40.500046         -74.429332         40.500046   \n",
      "1483         -73.633363        41.032490         -73.633671         41.032598   \n",
      "28373        -73.954922        41.391042         -73.954918         41.391042   \n",
      "43956        -73.931776        40.754153         -73.919801         40.797735   \n",
      "46198        -73.644528        41.009100         -73.641208         41.021182   \n",
      "61163        -73.866600        40.771149         -73.816216         41.092316   \n",
      "62648        -73.963953        40.706716         -73.964433         40.707917   \n",
      "\n",
      "       passenger_count   distance  \n",
      "1335                 1   0.000000  \n",
      "1483                 1   0.028471  \n",
      "28373                1   0.000333  \n",
      "43956                1   4.946784  \n",
      "46198                1   1.371169  \n",
      "61163                1  35.939513  \n",
      "62648                1   0.139452  \n"
     ]
    }
   ],
   "source": [
    "print(train[train['fare_amount'] > 150])"
   ]
  },
  {
   "cell_type": "code",
   "execution_count": 125,
   "metadata": {
    "collapsed": true
   },
   "outputs": [],
   "source": [
    "train['pickup_latitude'] = round(train['pickup_latitude'],4)"
   ]
  },
  {
   "cell_type": "code",
   "execution_count": 126,
   "metadata": {
    "collapsed": true
   },
   "outputs": [],
   "source": [
    "train['pickup_longitude'] = round(train['pickup_longitude'],4)\n",
    "train['dropoff_latitude'] = round(train['dropoff_latitude'],4)\n",
    "train['dropoff_longitude'] = round(train['dropoff_longitude'],4)"
   ]
  },
  {
   "cell_type": "code",
   "execution_count": 127,
   "metadata": {
    "collapsed": true
   },
   "outputs": [],
   "source": [
    "#drop rows that have distance less than a km\n",
    "train = train.drop(train[train['distance'] < 1].index)"
   ]
  },
  {
   "cell_type": "code",
   "execution_count": 128,
   "metadata": {},
   "outputs": [
    {
     "data": {
      "image/png": "[encoded data removed]",
      "text/plain": [
       "<matplotlib.figure.Figure at 0x1b151c7a5f8>"
      ]
     },
     "metadata": {},
     "output_type": "display_data"
    }
   ],
   "source": [
    "x = train['distance']\n",
    "y = train['fare_amount']\n",
    "plt.scatter(x,y)\n",
    "plt.show()"
   ]
  },
  {
   "cell_type": "code",
   "execution_count": 129,
   "metadata": {},
   "outputs": [],
   "source": [
    "#import datetime\n",
    "#for i in range(len(train)):\n",
    "#    train['tstamp'][i] = datetime.datetime.strptime(train['pickup_datetime'][i],\"%d %b %Y  %H:%M:%S.%f\")\n",
    "\n",
    "\n",
    "train['year'] = train.pickup_datetime.dt.year\n",
    "train['day'] =  train.pickup_datetime.dt.day\n",
    "train['month'] =  train.pickup_datetime.dt.month\n",
    "train['weekday'] = train.pickup_datetime.dt.weekday\n",
    "train['hour']= train.pickup_datetime.dt.hour\n",
    "train['dayofweek'] = train.pickup_datetime.dt.dayofweek"
   ]
  },
  {
   "cell_type": "code",
   "execution_count": 130,
   "metadata": {
    "collapsed": true
   },
   "outputs": [],
   "source": [
    "del train['pickup_datetime']"
   ]
  },
  {
   "cell_type": "code",
   "execution_count": 131,
   "metadata": {},
   "outputs": [
    {
     "data": {
      "text/html": [
       "<div>\n",
       "<style>\n",
       "    .dataframe thead tr:only-child th {\n",
       "        text-align: right;\n",
       "    }\n",
       "\n",
       "    .dataframe thead th {\n",
       "        text-align: left;\n",
       "    }\n",
       "\n",
       "    .dataframe tbody tr th {\n",
       "        vertical-align: top;\n",
       "    }\n",
       "</style>\n",
       "<table border=\"1\" class=\"dataframe\">\n",
       "  <thead>\n",
       "    <tr style=\"text-align: right;\">\n",
       "      <th></th>\n",
       "      <th>key</th>\n",
       "      <th>fare_amount</th>\n",
       "      <th>pickup_longitude</th>\n",
       "      <th>pickup_latitude</th>\n",
       "      <th>dropoff_longitude</th>\n",
       "      <th>dropoff_latitude</th>\n",
       "      <th>passenger_count</th>\n",
       "      <th>distance</th>\n",
       "      <th>year</th>\n",
       "      <th>day</th>\n",
       "      <th>month</th>\n",
       "      <th>weekday</th>\n",
       "      <th>hour</th>\n",
       "      <th>dayofweek</th>\n",
       "    </tr>\n",
       "  </thead>\n",
       "  <tbody>\n",
       "    <tr>\n",
       "      <th>0</th>\n",
       "      <td>2009-06-15 17:26:21.0000001</td>\n",
       "      <td>4.5</td>\n",
       "      <td>-73.8443</td>\n",
       "      <td>40.7213</td>\n",
       "      <td>-73.8416</td>\n",
       "      <td>40.7123</td>\n",
       "      <td>1</td>\n",
       "      <td>1.030117</td>\n",
       "      <td>2009</td>\n",
       "      <td>15</td>\n",
       "      <td>6</td>\n",
       "      <td>0</td>\n",
       "      <td>17</td>\n",
       "      <td>0</td>\n",
       "    </tr>\n",
       "    <tr>\n",
       "      <th>1</th>\n",
       "      <td>2010-01-05 16:52:16.0000002</td>\n",
       "      <td>16.9</td>\n",
       "      <td>-74.0160</td>\n",
       "      <td>40.7113</td>\n",
       "      <td>-73.9793</td>\n",
       "      <td>40.7820</td>\n",
       "      <td>1</td>\n",
       "      <td>8.444828</td>\n",
       "      <td>2010</td>\n",
       "      <td>5</td>\n",
       "      <td>1</td>\n",
       "      <td>1</td>\n",
       "      <td>16</td>\n",
       "      <td>1</td>\n",
       "    </tr>\n",
       "    <tr>\n",
       "      <th>2</th>\n",
       "      <td>2011-08-18 00:35:00.00000049</td>\n",
       "      <td>5.7</td>\n",
       "      <td>-73.9827</td>\n",
       "      <td>40.7613</td>\n",
       "      <td>-73.9912</td>\n",
       "      <td>40.7506</td>\n",
       "      <td>2</td>\n",
       "      <td>1.388653</td>\n",
       "      <td>2011</td>\n",
       "      <td>18</td>\n",
       "      <td>8</td>\n",
       "      <td>3</td>\n",
       "      <td>0</td>\n",
       "      <td>3</td>\n",
       "    </tr>\n",
       "    <tr>\n",
       "      <th>3</th>\n",
       "      <td>2012-04-21 04:30:42.0000001</td>\n",
       "      <td>7.7</td>\n",
       "      <td>-73.9871</td>\n",
       "      <td>40.7331</td>\n",
       "      <td>-73.9916</td>\n",
       "      <td>40.7581</td>\n",
       "      <td>1</td>\n",
       "      <td>2.797513</td>\n",
       "      <td>2012</td>\n",
       "      <td>21</td>\n",
       "      <td>4</td>\n",
       "      <td>5</td>\n",
       "      <td>4</td>\n",
       "      <td>5</td>\n",
       "    </tr>\n",
       "    <tr>\n",
       "      <th>4</th>\n",
       "      <td>2010-03-09 07:51:00.000000135</td>\n",
       "      <td>5.3</td>\n",
       "      <td>-73.9681</td>\n",
       "      <td>40.7680</td>\n",
       "      <td>-73.9567</td>\n",
       "      <td>40.7838</td>\n",
       "      <td>1</td>\n",
       "      <td>1.997902</td>\n",
       "      <td>2010</td>\n",
       "      <td>9</td>\n",
       "      <td>3</td>\n",
       "      <td>1</td>\n",
       "      <td>7</td>\n",
       "      <td>1</td>\n",
       "    </tr>\n",
       "  </tbody>\n",
       "</table>\n",
       "</div>"
      ],
      "text/plain": [
       "                             key  fare_amount  pickup_longitude  \\\n",
       "0    2009-06-15 17:26:21.0000001          4.5          -73.8443   \n",
       "1    2010-01-05 16:52:16.0000002         16.9          -74.0160   \n",
       "2   2011-08-18 00:35:00.00000049          5.7          -73.9827   \n",
       "3    2012-04-21 04:30:42.0000001          7.7          -73.9871   \n",
       "4  2010-03-09 07:51:00.000000135          5.3          -73.9681   \n",
       "\n",
       "   pickup_latitude  dropoff_longitude  dropoff_latitude  passenger_count  \\\n",
       "0          40.7213           -73.8416           40.7123                1   \n",
       "1          40.7113           -73.9793           40.7820                1   \n",
       "2          40.7613           -73.9912           40.7506                2   \n",
       "3          40.7331           -73.9916           40.7581                1   \n",
       "4          40.7680           -73.9567           40.7838                1   \n",
       "\n",
       "   distance  year  day  month  weekday  hour  dayofweek  \n",
       "0  1.030117  2009   15      6        0    17          0  \n",
       "1  8.444828  2010    5      1        1    16          1  \n",
       "2  1.388653  2011   18      8        3     0          3  \n",
       "3  2.797513  2012   21      4        5     4          5  \n",
       "4  1.997902  2010    9      3        1     7          1  "
      ]
     },
     "execution_count": 131,
     "metadata": {},
     "output_type": "execute_result"
    }
   ],
   "source": [
    "train.head()"
   ]
  },
  {
   "cell_type": "code",
   "execution_count": 132,
   "metadata": {},
   "outputs": [
    {
     "data": {
      "image/png": "[encoded data removed]",
      "text/plain": [
       "<matplotlib.figure.Figure at 0x1b151aed5f8>"
      ]
     },
     "metadata": {},
     "output_type": "display_data"
    }
   ],
   "source": [
    "plt.hist(train['hour'],bins=80)\n",
    "plt.xlabel('hour')\n",
    "plt.ylabel('frequency')\n",
    "plt.show()\n",
    "#much of the travel is between 6 am and 11 pm"
   ]
  },
  {
   "cell_type": "code",
   "execution_count": 148,
   "metadata": {},
   "outputs": [],
   "source": [
    "train['rush_hour'] = train['hour'].apply(lambda x: 1 if (x > 6 & x < 22) else 0)"
   ]
  },
  {
   "cell_type": "code",
   "execution_count": null,
   "metadata": {
    "collapsed": true
   },
   "outputs": [],
   "source": [
    "#train['no_rush_hour'] = train['hour'].apply(lambda x: 1 if (x < 6 | x > 22) else 0)"
   ]
  },
  {
   "cell_type": "code",
   "execution_count": 149,
   "metadata": {},
   "outputs": [
    {
     "data": {
      "image/png": "[encoded data removed]",
      "text/plain": [
       "<matplotlib.figure.Figure at 0x1b151c25dd8>"
      ]
     },
     "metadata": {},
     "output_type": "display_data"
    }
   ],
   "source": [
    "x = train['rush_hour']\n",
    "y = train['fare_amount']\n",
    "plt.scatter(x,y)\n",
    "plt.show()"
   ]
  },
  {
   "cell_type": "code",
   "execution_count": 150,
   "metadata": {},
   "outputs": [
    {
     "data": {
      "image/png": "[encoded data removed]",
      "text/plain": [
       "<matplotlib.figure.Figure at 0x1b152400160>"
      ]
     },
     "metadata": {},
     "output_type": "display_data"
    }
   ],
   "source": [
    "x = train['rush_hour']\n",
    "y = train['distance']\n",
    "plt.scatter(x,y)\n",
    "plt.show()"
   ]
  },
  {
   "cell_type": "code",
   "execution_count": null,
   "metadata": {
    "collapsed": true
   },
   "outputs": [],
   "source": [
    "#CHarges are more in rush hour traffic"
   ]
  },
  {
   "cell_type": "code",
   "execution_count": 137,
   "metadata": {},
   "outputs": [
    {
     "data": {
      "image/png": "[encoded data removed]",
      "text/plain": [
       "<matplotlib.figure.Figure at 0x1b15217ba90>"
      ]
     },
     "metadata": {},
     "output_type": "display_data"
    }
   ],
   "source": [
    "plt.hist(train['dayofweek'],bins=80)\n",
    "plt.xlabel('dayofweek')\n",
    "plt.ylabel('frequency')\n",
    "plt.show()"
   ]
  },
  {
   "cell_type": "code",
   "execution_count": 152,
   "metadata": {},
   "outputs": [],
   "source": [
    "train['weekend'] = train['dayofweek'].apply(lambda x: 1 if (x == 0 | x == 1) else 0)"
   ]
  },
  {
   "cell_type": "code",
   "execution_count": 153,
   "metadata": {},
   "outputs": [
    {
     "data": {
      "image/png": "[encoded data removed]",
      "text/plain": [
       "<matplotlib.figure.Figure at 0x1b1521559e8>"
      ]
     },
     "metadata": {},
     "output_type": "display_data"
    }
   ],
   "source": [
    "x = train['weekend']\n",
    "y = train['fare_amount']\n",
    "plt.scatter(x,y)\n",
    "plt.show()"
   ]
  },
  {
   "cell_type": "code",
   "execution_count": 135,
   "metadata": {},
   "outputs": [
    {
     "name": "stdout",
     "output_type": "stream",
     "text": [
      "                                 key  fare_amount  pickup_longitude  \\\n",
      "14142    2014-12-12 10:13:00.0000003        108.0          -74.0136   \n",
      "43956    2014-11-01 03:35:37.0000002        165.0          -73.9318   \n",
      "46198  2013-05-13 11:18:00.000000139        160.0          -73.6445   \n",
      "56316  2012-10-27 19:45:00.000000108        149.0          -73.7840   \n",
      "97183    2011-04-19 06:08:34.0000001        103.0          -74.0405   \n",
      "\n",
      "       pickup_latitude  dropoff_longitude  dropoff_latitude  passenger_count  \\\n",
      "14142          40.7059           -74.0007           40.7390                1   \n",
      "43956          40.7542           -73.9198           40.7977                1   \n",
      "46198          41.0091           -73.6412           41.0212                1   \n",
      "56316          40.6464           -73.7922           40.6597                1   \n",
      "97183          40.7367           -74.0023           40.7292                1   \n",
      "\n",
      "       distance  year  day  month  weekday  hour  dayofweek  \n",
      "14142  3.826206  2014   12     12        4    10          4  \n",
      "43956  4.946784  2014    1     11        5     3          5  \n",
      "46198  1.371169  2013   13      5        0    11          0  \n",
      "56316  1.630754  2012   27     10        5    19          5  \n",
      "97183  3.320784  2011   19      4        1     6          1  \n"
     ]
    }
   ],
   "source": [
    "print(train[(train['fare_amount'] > 100) & (train['distance'] < 5)] )"
   ]
  },
  {
   "cell_type": "code",
   "execution_count": 136,
   "metadata": {},
   "outputs": [
    {
     "name": "stdout",
     "output_type": "stream",
     "text": [
      "                               key  fare_amount  pickup_longitude  \\\n",
      "74634  2012-06-17 00:54:23.0000001        47.30          -73.9778   \n",
      "77822  2013-04-04 10:36:39.0000004        57.33          -73.9882   \n",
      "97972  2014-08-10 14:02:00.0000008        57.33          -73.9740   \n",
      "\n",
      "       pickup_latitude  dropoff_longitude  dropoff_latitude  passenger_count  \\\n",
      "74634          40.7547           -73.9582           40.6413                4   \n",
      "77822          40.7483           -73.7781           40.6449                1   \n",
      "97972          40.7618           -73.7781           40.6449                5   \n",
      "\n",
      "        distance  year  day  month  weekday  hour  dayofweek  \n",
      "74634  12.706876  2012   17      6        6     0          6  \n",
      "77822  21.101022  2013    4      4        3    10          3  \n",
      "97972  21.001934  2014   10      8        6    14          6  \n"
     ]
    }
   ],
   "source": [
    "#Check dropoff and pickup of important locations like airport\n",
    "#train['jfk_drop'] = train[train['dropoff_latitude'] == 40.64 & train['dropoff_longitude'] == -73.78]\n",
    "#print(train[train['fare_amount'] == 45])\n",
    "#print(train[(train['dropoff_latitude'] == 40.6413) | (train['dropoff_longitude'] == -73.7781)])"
   ]
  },
  {
   "cell_type": "code",
   "execution_count": null,
   "metadata": {
    "collapsed": true
   },
   "outputs": [],
   "source": []
  },
  {
   "cell_type": "code",
   "execution_count": 156,
   "metadata": {
    "collapsed": true
   },
   "outputs": [],
   "source": [
    "def is_airport_trip(latitude,longitude,airport):\n",
    "    if (airport == 'JFK'):\n",
    "        if(40.619 <= latitude <= 40.665 and -73.835 <= longitude <= -73.740):\n",
    "            return 1\n",
    "        else:\n",
    "            return 0\n",
    "    if(airport == 'LaGuardia'):\n",
    "        if(40.766 <= latitude <= 40.786 and -73.899 <= longitude <= -73.855):\n",
    "            return 1\n",
    "        else:\n",
    "            return 0\n",
    "    if (airport == 'EWR'):\n",
    "        if(40.670 <= latitude <= 40.709 and -74.193 <= longitude <= -74.149):\n",
    "            return 1\n",
    "        else:\n",
    "            return 0\n",
    "\n",
    "\n",
    "        "
   ]
  },
  {
   "cell_type": "code",
   "execution_count": 158,
   "metadata": {},
   "outputs": [],
   "source": [
    "train['is_pickup_jfk'] = train.apply(lambda x: is_airport_trip(latitude = x['pickup_latitude'],\n",
    "                                                                  longitude = x['pickup_longitude'],\n",
    "                                                                  airport='JFK'),axis=1)\n",
    "\n",
    "train['is_dropoff_jfk'] = train.apply(lambda x: is_airport_trip(latitude = x['dropoff_latitude'],\n",
    "                                                                  longitude = x['dropoff_longitude'],\n",
    "                                                                  airport='JFK'),axis=1)\n",
    "\n",
    "train['is_pickup_EWR'] = train.apply(lambda x: is_airport_trip(latitude = x['pickup_latitude'],\n",
    "                                                                  longitude = x['pickup_longitude'],\n",
    "                                                                  airport='EWR'),axis=1)\n",
    "\n",
    "train['is_dropoff_EWR'] = train.apply(lambda x: is_airport_trip(latitude = x['dropoff_latitude'],\n",
    "                                                                  longitude = x['dropoff_longitude'],\n",
    "                                                                  airport='EWR'),axis=1)\n",
    "\n",
    "train['is_pickup_LaGuardia'] = train.apply(lambda x: is_airport_trip(latitude = x['pickup_latitude'],\n",
    "                                                                  longitude = x['pickup_longitude'],\n",
    "                                                                  airport='LaGuardia'),axis=1)\n",
    "train['is_dropoff_LaGuardia'] = train.apply(lambda x: is_airport_trip(latitude = x['dropoff_latitude'],\n",
    "                                                                  longitude = x['dropoff_longitude'],\n",
    "                                                                  airport='LaGuardia'),axis=1)"
   ]
  },
  {
   "cell_type": "code",
   "execution_count": 160,
   "metadata": {},
   "outputs": [
    {
     "data": {
      "text/html": [
       "<div>\n",
       "<style>\n",
       "    .dataframe thead tr:only-child th {\n",
       "        text-align: right;\n",
       "    }\n",
       "\n",
       "    .dataframe thead th {\n",
       "        text-align: left;\n",
       "    }\n",
       "\n",
       "    .dataframe tbody tr th {\n",
       "        vertical-align: top;\n",
       "    }\n",
       "</style>\n",
       "<table border=\"1\" class=\"dataframe\">\n",
       "  <thead>\n",
       "    <tr style=\"text-align: right;\">\n",
       "      <th></th>\n",
       "      <th>key</th>\n",
       "      <th>fare_amount</th>\n",
       "      <th>pickup_longitude</th>\n",
       "      <th>pickup_latitude</th>\n",
       "      <th>dropoff_longitude</th>\n",
       "      <th>dropoff_latitude</th>\n",
       "      <th>passenger_count</th>\n",
       "      <th>distance</th>\n",
       "      <th>year</th>\n",
       "      <th>day</th>\n",
       "      <th>...</th>\n",
       "      <th>hour</th>\n",
       "      <th>dayofweek</th>\n",
       "      <th>rush_hour</th>\n",
       "      <th>weekend</th>\n",
       "      <th>is_pickup_jfk</th>\n",
       "      <th>is_dropoff_jfk</th>\n",
       "      <th>is_pickup_EWR</th>\n",
       "      <th>is_dropoff_EWR</th>\n",
       "      <th>is_pickup_LaGuardia</th>\n",
       "      <th>is_dropoff_LaGuardia</th>\n",
       "    </tr>\n",
       "  </thead>\n",
       "  <tbody>\n",
       "    <tr>\n",
       "      <th>0</th>\n",
       "      <td>2009-06-15 17:26:21.0000001</td>\n",
       "      <td>4.5</td>\n",
       "      <td>-73.8443</td>\n",
       "      <td>40.7213</td>\n",
       "      <td>-73.8416</td>\n",
       "      <td>40.7123</td>\n",
       "      <td>1</td>\n",
       "      <td>1.030117</td>\n",
       "      <td>2009</td>\n",
       "      <td>15</td>\n",
       "      <td>...</td>\n",
       "      <td>17</td>\n",
       "      <td>0</td>\n",
       "      <td>1</td>\n",
       "      <td>0</td>\n",
       "      <td>0</td>\n",
       "      <td>0</td>\n",
       "      <td>0</td>\n",
       "      <td>0</td>\n",
       "      <td>0</td>\n",
       "      <td>0</td>\n",
       "    </tr>\n",
       "    <tr>\n",
       "      <th>1</th>\n",
       "      <td>2010-01-05 16:52:16.0000002</td>\n",
       "      <td>16.9</td>\n",
       "      <td>-74.0160</td>\n",
       "      <td>40.7113</td>\n",
       "      <td>-73.9793</td>\n",
       "      <td>40.7820</td>\n",
       "      <td>1</td>\n",
       "      <td>8.444828</td>\n",
       "      <td>2010</td>\n",
       "      <td>5</td>\n",
       "      <td>...</td>\n",
       "      <td>16</td>\n",
       "      <td>1</td>\n",
       "      <td>1</td>\n",
       "      <td>1</td>\n",
       "      <td>0</td>\n",
       "      <td>0</td>\n",
       "      <td>0</td>\n",
       "      <td>0</td>\n",
       "      <td>0</td>\n",
       "      <td>0</td>\n",
       "    </tr>\n",
       "    <tr>\n",
       "      <th>2</th>\n",
       "      <td>2011-08-18 00:35:00.00000049</td>\n",
       "      <td>5.7</td>\n",
       "      <td>-73.9827</td>\n",
       "      <td>40.7613</td>\n",
       "      <td>-73.9912</td>\n",
       "      <td>40.7506</td>\n",
       "      <td>2</td>\n",
       "      <td>1.388653</td>\n",
       "      <td>2011</td>\n",
       "      <td>18</td>\n",
       "      <td>...</td>\n",
       "      <td>0</td>\n",
       "      <td>3</td>\n",
       "      <td>0</td>\n",
       "      <td>0</td>\n",
       "      <td>0</td>\n",
       "      <td>0</td>\n",
       "      <td>0</td>\n",
       "      <td>0</td>\n",
       "      <td>0</td>\n",
       "      <td>0</td>\n",
       "    </tr>\n",
       "    <tr>\n",
       "      <th>3</th>\n",
       "      <td>2012-04-21 04:30:42.0000001</td>\n",
       "      <td>7.7</td>\n",
       "      <td>-73.9871</td>\n",
       "      <td>40.7331</td>\n",
       "      <td>-73.9916</td>\n",
       "      <td>40.7581</td>\n",
       "      <td>1</td>\n",
       "      <td>2.797513</td>\n",
       "      <td>2012</td>\n",
       "      <td>21</td>\n",
       "      <td>...</td>\n",
       "      <td>4</td>\n",
       "      <td>5</td>\n",
       "      <td>0</td>\n",
       "      <td>0</td>\n",
       "      <td>0</td>\n",
       "      <td>0</td>\n",
       "      <td>0</td>\n",
       "      <td>0</td>\n",
       "      <td>0</td>\n",
       "      <td>0</td>\n",
       "    </tr>\n",
       "    <tr>\n",
       "      <th>4</th>\n",
       "      <td>2010-03-09 07:51:00.000000135</td>\n",
       "      <td>5.3</td>\n",
       "      <td>-73.9681</td>\n",
       "      <td>40.7680</td>\n",
       "      <td>-73.9567</td>\n",
       "      <td>40.7838</td>\n",
       "      <td>1</td>\n",
       "      <td>1.997902</td>\n",
       "      <td>2010</td>\n",
       "      <td>9</td>\n",
       "      <td>...</td>\n",
       "      <td>7</td>\n",
       "      <td>1</td>\n",
       "      <td>1</td>\n",
       "      <td>1</td>\n",
       "      <td>0</td>\n",
       "      <td>0</td>\n",
       "      <td>0</td>\n",
       "      <td>0</td>\n",
       "      <td>0</td>\n",
       "      <td>0</td>\n",
       "    </tr>\n",
       "  </tbody>\n",
       "</table>\n",
       "<p>5 rows × 22 columns</p>\n",
       "</div>"
      ],
      "text/plain": [
       "                             key  fare_amount  pickup_longitude  \\\n",
       "0    2009-06-15 17:26:21.0000001          4.5          -73.8443   \n",
       "1    2010-01-05 16:52:16.0000002         16.9          -74.0160   \n",
       "2   2011-08-18 00:35:00.00000049          5.7          -73.9827   \n",
       "3    2012-04-21 04:30:42.0000001          7.7          -73.9871   \n",
       "4  2010-03-09 07:51:00.000000135          5.3          -73.9681   \n",
       "\n",
       "   pickup_latitude  dropoff_longitude  dropoff_latitude  passenger_count  \\\n",
       "0          40.7213           -73.8416           40.7123                1   \n",
       "1          40.7113           -73.9793           40.7820                1   \n",
       "2          40.7613           -73.9912           40.7506                2   \n",
       "3          40.7331           -73.9916           40.7581                1   \n",
       "4          40.7680           -73.9567           40.7838                1   \n",
       "\n",
       "   distance  year  day          ...           hour  dayofweek  rush_hour  \\\n",
       "0  1.030117  2009   15          ...             17          0          1   \n",
       "1  8.444828  2010    5          ...             16          1          1   \n",
       "2  1.388653  2011   18          ...              0          3          0   \n",
       "3  2.797513  2012   21          ...              4          5          0   \n",
       "4  1.997902  2010    9          ...              7          1          1   \n",
       "\n",
       "   weekend  is_pickup_jfk  is_dropoff_jfk  is_pickup_EWR  is_dropoff_EWR  \\\n",
       "0        0              0               0              0               0   \n",
       "1        1              0               0              0               0   \n",
       "2        0              0               0              0               0   \n",
       "3        0              0               0              0               0   \n",
       "4        1              0               0              0               0   \n",
       "\n",
       "   is_pickup_LaGuardia  is_dropoff_LaGuardia  \n",
       "0                    0                     0  \n",
       "1                    0                     0  \n",
       "2                    0                     0  \n",
       "3                    0                     0  \n",
       "4                    0                     0  \n",
       "\n",
       "[5 rows x 22 columns]"
      ]
     },
     "execution_count": 160,
     "metadata": {},
     "output_type": "execute_result"
    }
   ],
   "source": [
    "from sklearn.model_selection import train_test_split\n",
    "train.head()"
   ]
  },
  {
   "cell_type": "code",
   "execution_count": 163,
   "metadata": {
    "collapsed": true
   },
   "outputs": [],
   "source": [
    "cols = ['passenger_count','distance','year','day','hour','dayofweek','rush_hour','weekend','is_pickup_jfk','is_dropoff_jfk',\n",
    "        'is_pickup_EWR','is_dropoff_EWR','is_pickup_LaGuardia','is_dropoff_LaGuardia']"
   ]
  },
  {
   "cell_type": "code",
   "execution_count": 167,
   "metadata": {},
   "outputs": [],
   "source": [
    "X = train[cols]\n",
    "y = train['fare_amount']\n",
    "X_train,X_test,y_train,y_test = train_test_split(X,y,test_size=0.30,random_state=0)"
   ]
  },
  {
   "cell_type": "code",
   "execution_count": 169,
   "metadata": {
    "collapsed": true
   },
   "outputs": [],
   "source": [
    "from math import sqrt\n",
    "from sklearn.metrics import mean_squared_error"
   ]
  },
  {
   "cell_type": "code",
   "execution_count": 170,
   "metadata": {},
   "outputs": [
    {
     "name": "stdout",
     "output_type": "stream",
     "text": [
      "RMSE:  3.83\n"
     ]
    }
   ],
   "source": [
    "from xgboost import XGBRegressor\n",
    "clf = XGBRegressor(num_estimators=500,max_depth=5,max_features='sqrt',learning_rate=0.1,min_samples_split=500,min_samples_leaf=100)\n",
    "clf.fit(X_train,y_train)\n",
    "predictions = clf.predict(X_test)\n",
    "rmse = np.sqrt(mean_squared_error(y_test,predictions))\n",
    "print('RMSE: % .2f' % rmse)"
   ]
  }
 ],
 "metadata": {
  "kernelspec": {
   "display_name": "Python 3",
   "language": "python",
   "name": "python3"
  },
  "language_info": {
   "codemirror_mode": {
    "name": "ipython",
    "version": 3
   },
   "file_extension": ".py",
   "mimetype": "text/x-python",
   "name": "python",
   "nbconvert_exporter": "python",
   "pygments_lexer": "ipython3",
   "version": "3.6.2"
  }
 },
 "nbformat": 4,
 "nbformat_minor": 2
}
